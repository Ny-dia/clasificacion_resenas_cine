{
  "metadata": {
    "kernelspec": {
      "display_name": "Python 3",
      "name": "python3"
    },
    "language_info": {
      "name": "python",
      "version": "3.11.11",
      "mimetype": "text/x-python",
      "codemirror_mode": {
        "name": "ipython",
        "version": 3
      },
      "pygments_lexer": "ipython3",
      "nbconvert_exporter": "python",
      "file_extension": ".py"
    },
    "kaggle": {
      "accelerator": "none",
      "dataSources": [
        {
          "sourceId": 320111,
          "sourceType": "datasetVersion",
          "datasetId": 134715
        }
      ],
      "dockerImageVersionId": 31040,
      "isInternetEnabled": true,
      "language": "python",
      "sourceType": "notebook",
      "isGpuEnabled": false
    },
    "colab": {
      "provenance": [],
      "gpuType": "T4"
    },
    "accelerator": "GPU"
  },
  "nbformat_minor": 0,
  "nbformat": 4,
  "cells": [
    {
      "cell_type": "markdown",
      "source": [
        "# Exploración inicial de archivos"
      ],
      "metadata": {
        "id": "qIE5JgQY2x_2"
      }
    },
    {
      "cell_type": "markdown",
      "source": [
        "Esta celda muestra los archivos disponibles en el directorio /kaggle/input para verificar que el conjunto de datos se ha descargado correctamente.\n",
        "\n"
      ],
      "metadata": {
        "id": "ZpxAMNuw2YxQ"
      }
    },
    {
      "source": [
        "import kagglehub\n",
        "lakshmi25npathi_imdb_dataset_of_50k_movie_reviews_path = kagglehub.dataset_download('lakshmi25npathi/imdb-dataset-of-50k-movie-reviews')\n",
        "\n",
        "print('Data source import complete.')\n"
      ],
      "metadata": {
        "id": "3FQ5CmFVuD65",
        "outputId": "bfcea79b-b996-450f-b276-abde3792590d",
        "colab": {
          "base_uri": "https://localhost:8080/"
        }
      },
      "cell_type": "code",
      "outputs": [
        {
          "output_type": "stream",
          "name": "stdout",
          "text": [
            "Data source import complete.\n"
          ]
        }
      ],
      "execution_count": 2
    },
    {
      "cell_type": "code",
      "source": [
        "import numpy as np\n",
        "import pandas as pd\n",
        "\n",
        "\n",
        "import os\n",
        "for dirname, _, filenames in os.walk('/kaggle/input'):\n",
        "    for filename in filenames:\n",
        "        print(os.path.join(dirname, filename))"
      ],
      "metadata": {
        "_uuid": "8f2839f25d086af736a60e9eeb907d3b93b6e0e5",
        "_cell_guid": "b1076dfc-b9ad-4769-8c92-a6c4dae69d19",
        "trusted": true,
        "execution": {
          "iopub.status.busy": "2025-06-01T03:11:42.437542Z",
          "iopub.execute_input": "2025-06-01T03:11:42.437982Z",
          "iopub.status.idle": "2025-06-01T03:11:45.012814Z",
          "shell.execute_reply.started": "2025-06-01T03:11:42.437942Z",
          "shell.execute_reply": "2025-06-01T03:11:45.011414Z"
        },
        "id": "jBWvd0rYuD7O",
        "outputId": "0b5d11cc-61ab-4c4c-c275-82f37e639c54",
        "colab": {
          "base_uri": "https://localhost:8080/"
        }
      },
      "outputs": [
        {
          "output_type": "stream",
          "name": "stdout",
          "text": [
            "/kaggle/input/imdb-dataset-of-50k-movie-reviews/IMDB Dataset.csv\n"
          ]
        }
      ],
      "execution_count": 3
    },
    {
      "cell_type": "code",
      "source": [
        "import kagglehub\n",
        "\n",
        "# Download latest version\n",
        "path = kagglehub.dataset_download(\"lakshmi25npathi/imdb-dataset-of-50k-movie-reviews\")\n",
        "\n",
        "print(\"Path to dataset files:\", path)"
      ],
      "metadata": {
        "trusted": true,
        "execution": {
          "iopub.status.busy": "2025-06-01T03:22:48.828727Z",
          "iopub.execute_input": "2025-06-01T03:22:48.829067Z",
          "iopub.status.idle": "2025-06-01T03:22:49.109235Z",
          "shell.execute_reply.started": "2025-06-01T03:22:48.829043Z",
          "shell.execute_reply": "2025-06-01T03:22:49.108164Z"
        },
        "id": "KCCXIcb2uD7W",
        "outputId": "4cb2f172-920f-4609-d87c-5d007cdecce7",
        "colab": {
          "base_uri": "https://localhost:8080/"
        }
      },
      "outputs": [
        {
          "output_type": "stream",
          "name": "stdout",
          "text": [
            "Path to dataset files: /kaggle/input/imdb-dataset-of-50k-movie-reviews\n"
          ]
        }
      ],
      "execution_count": 4
    },
    {
      "cell_type": "code",
      "source": [
        "# Definir directorios\n",
        "imdb_dir = '/kaggle/input/imdb-dataset-of-50k-movie-reviews/IMDB Dataset.csv'\n",
        "df = pd.read_csv(imdb_dir)"
      ],
      "metadata": {
        "trusted": true,
        "execution": {
          "iopub.status.busy": "2025-06-01T03:32:15.630803Z",
          "iopub.execute_input": "2025-06-01T03:32:15.631216Z",
          "iopub.status.idle": "2025-06-01T03:32:17.149835Z",
          "shell.execute_reply.started": "2025-06-01T03:32:15.631187Z",
          "shell.execute_reply": "2025-06-01T03:32:17.148678Z"
        },
        "id": "OvCunynZuD7a"
      },
      "outputs": [],
      "execution_count": 5
    },
    {
      "cell_type": "code",
      "source": [
        "df['sentiment'] = df['sentiment'].map({'positive': 1, 'negative': 0})\n"
      ],
      "metadata": {
        "trusted": true,
        "execution": {
          "iopub.status.busy": "2025-06-01T03:59:13.122092Z",
          "iopub.execute_input": "2025-06-01T03:59:13.123154Z",
          "iopub.status.idle": "2025-06-01T03:59:13.137431Z",
          "shell.execute_reply.started": "2025-06-01T03:59:13.123106Z",
          "shell.execute_reply": "2025-06-01T03:59:13.136379Z"
        },
        "id": "BkzfodcMuD7c"
      },
      "outputs": [],
      "execution_count": 6
    },
    {
      "cell_type": "markdown",
      "source": [
        "Esta celda se asegura de que la columna 'sentiment' sea de tipo entero (int). Esto es importante para el entrenamiento del modelo."
      ],
      "metadata": {
        "id": "Jx2-yriK3ByN"
      }
    },
    {
      "cell_type": "code",
      "source": [
        "df['sentiment'] = df['sentiment'].astype('int')"
      ],
      "metadata": {
        "trusted": true,
        "execution": {
          "iopub.status.busy": "2025-06-01T04:04:45.597074Z",
          "iopub.execute_input": "2025-06-01T04:04:45.597398Z",
          "iopub.status.idle": "2025-06-01T04:04:45.603218Z",
          "shell.execute_reply.started": "2025-06-01T04:04:45.597379Z",
          "shell.execute_reply": "2025-06-01T04:04:45.602441Z"
        },
        "id": "JFIY68lVuD7f"
      },
      "outputs": [],
      "execution_count": 7
    },
    {
      "cell_type": "code",
      "source": [
        "print(df['sentiment'].unique())  # Debería mostrar [1, 0]\n"
      ],
      "metadata": {
        "trusted": true,
        "execution": {
          "iopub.status.busy": "2025-06-01T04:04:48.299724Z",
          "iopub.execute_input": "2025-06-01T04:04:48.30008Z",
          "iopub.status.idle": "2025-06-01T04:04:48.306273Z",
          "shell.execute_reply.started": "2025-06-01T04:04:48.300054Z",
          "shell.execute_reply": "2025-06-01T04:04:48.305303Z"
        },
        "id": "IlV8pBpduD7i",
        "outputId": "fa302a0f-b6c2-436e-c8b8-9a3332635220",
        "colab": {
          "base_uri": "https://localhost:8080/"
        }
      },
      "outputs": [
        {
          "output_type": "stream",
          "name": "stdout",
          "text": [
            "[1 0]\n"
          ]
        }
      ],
      "execution_count": 8
    },
    {
      "cell_type": "markdown",
      "source": [
        "# Instalación de librerías y carga Inicial"
      ],
      "metadata": {
        "id": "khHwx7UQ3J0s"
      }
    },
    {
      "cell_type": "code",
      "source": [
        "!pip install tensorflow keras nltk pandas scikit-learn matplotlib\n",
        "\n",
        "import numpy as np\n",
        "import pandas as pd\n",
        "import matplotlib.pyplot as plt\n",
        "from sklearn.model_selection import train_test_split\n",
        "from sklearn.metrics import classification_report, accuracy_score"
      ],
      "metadata": {
        "trusted": true,
        "execution": {
          "iopub.status.busy": "2025-06-01T04:04:51.151472Z",
          "iopub.execute_input": "2025-06-01T04:04:51.151796Z",
          "iopub.status.idle": "2025-06-01T04:04:55.772923Z",
          "shell.execute_reply.started": "2025-06-01T04:04:51.151775Z",
          "shell.execute_reply": "2025-06-01T04:04:55.77095Z"
        },
        "id": "XQcBHcCWuD7n",
        "outputId": "249cc331-7ef7-4134-a385-72366465d16b",
        "colab": {
          "base_uri": "https://localhost:8080/"
        }
      },
      "outputs": [
        {
          "output_type": "stream",
          "name": "stdout",
          "text": [
            "Requirement already satisfied: tensorflow in /usr/local/lib/python3.11/dist-packages (2.18.0)\n",
            "Requirement already satisfied: keras in /usr/local/lib/python3.11/dist-packages (3.8.0)\n",
            "Requirement already satisfied: nltk in /usr/local/lib/python3.11/dist-packages (3.9.1)\n",
            "Requirement already satisfied: pandas in /usr/local/lib/python3.11/dist-packages (2.2.2)\n",
            "Requirement already satisfied: scikit-learn in /usr/local/lib/python3.11/dist-packages (1.6.1)\n",
            "Requirement already satisfied: matplotlib in /usr/local/lib/python3.11/dist-packages (3.10.0)\n",
            "Requirement already satisfied: absl-py>=1.0.0 in /usr/local/lib/python3.11/dist-packages (from tensorflow) (1.4.0)\n",
            "Requirement already satisfied: astunparse>=1.6.0 in /usr/local/lib/python3.11/dist-packages (from tensorflow) (1.6.3)\n",
            "Requirement already satisfied: flatbuffers>=24.3.25 in /usr/local/lib/python3.11/dist-packages (from tensorflow) (25.2.10)\n",
            "Requirement already satisfied: gast!=0.5.0,!=0.5.1,!=0.5.2,>=0.2.1 in /usr/local/lib/python3.11/dist-packages (from tensorflow) (0.6.0)\n",
            "Requirement already satisfied: google-pasta>=0.1.1 in /usr/local/lib/python3.11/dist-packages (from tensorflow) (0.2.0)\n",
            "Requirement already satisfied: libclang>=13.0.0 in /usr/local/lib/python3.11/dist-packages (from tensorflow) (18.1.1)\n",
            "Requirement already satisfied: opt-einsum>=2.3.2 in /usr/local/lib/python3.11/dist-packages (from tensorflow) (3.4.0)\n",
            "Requirement already satisfied: packaging in /usr/local/lib/python3.11/dist-packages (from tensorflow) (24.2)\n",
            "Requirement already satisfied: protobuf!=4.21.0,!=4.21.1,!=4.21.2,!=4.21.3,!=4.21.4,!=4.21.5,<6.0.0dev,>=3.20.3 in /usr/local/lib/python3.11/dist-packages (from tensorflow) (5.29.4)\n",
            "Requirement already satisfied: requests<3,>=2.21.0 in /usr/local/lib/python3.11/dist-packages (from tensorflow) (2.32.3)\n",
            "Requirement already satisfied: setuptools in /usr/local/lib/python3.11/dist-packages (from tensorflow) (75.2.0)\n",
            "Requirement already satisfied: six>=1.12.0 in /usr/local/lib/python3.11/dist-packages (from tensorflow) (1.17.0)\n",
            "Requirement already satisfied: termcolor>=1.1.0 in /usr/local/lib/python3.11/dist-packages (from tensorflow) (3.1.0)\n",
            "Requirement already satisfied: typing-extensions>=3.6.6 in /usr/local/lib/python3.11/dist-packages (from tensorflow) (4.13.2)\n",
            "Requirement already satisfied: wrapt>=1.11.0 in /usr/local/lib/python3.11/dist-packages (from tensorflow) (1.17.2)\n",
            "Requirement already satisfied: grpcio<2.0,>=1.24.3 in /usr/local/lib/python3.11/dist-packages (from tensorflow) (1.71.0)\n",
            "Requirement already satisfied: tensorboard<2.19,>=2.18 in /usr/local/lib/python3.11/dist-packages (from tensorflow) (2.18.0)\n",
            "Requirement already satisfied: numpy<2.1.0,>=1.26.0 in /usr/local/lib/python3.11/dist-packages (from tensorflow) (2.0.2)\n",
            "Requirement already satisfied: h5py>=3.11.0 in /usr/local/lib/python3.11/dist-packages (from tensorflow) (3.13.0)\n",
            "Requirement already satisfied: ml-dtypes<0.5.0,>=0.4.0 in /usr/local/lib/python3.11/dist-packages (from tensorflow) (0.4.1)\n",
            "Requirement already satisfied: tensorflow-io-gcs-filesystem>=0.23.1 in /usr/local/lib/python3.11/dist-packages (from tensorflow) (0.37.1)\n",
            "Requirement already satisfied: rich in /usr/local/lib/python3.11/dist-packages (from keras) (13.9.4)\n",
            "Requirement already satisfied: namex in /usr/local/lib/python3.11/dist-packages (from keras) (0.0.9)\n",
            "Requirement already satisfied: optree in /usr/local/lib/python3.11/dist-packages (from keras) (0.15.0)\n",
            "Requirement already satisfied: click in /usr/local/lib/python3.11/dist-packages (from nltk) (8.2.1)\n",
            "Requirement already satisfied: joblib in /usr/local/lib/python3.11/dist-packages (from nltk) (1.5.0)\n",
            "Requirement already satisfied: regex>=2021.8.3 in /usr/local/lib/python3.11/dist-packages (from nltk) (2024.11.6)\n",
            "Requirement already satisfied: tqdm in /usr/local/lib/python3.11/dist-packages (from nltk) (4.67.1)\n",
            "Requirement already satisfied: python-dateutil>=2.8.2 in /usr/local/lib/python3.11/dist-packages (from pandas) (2.9.0.post0)\n",
            "Requirement already satisfied: pytz>=2020.1 in /usr/local/lib/python3.11/dist-packages (from pandas) (2025.2)\n",
            "Requirement already satisfied: tzdata>=2022.7 in /usr/local/lib/python3.11/dist-packages (from pandas) (2025.2)\n",
            "Requirement already satisfied: scipy>=1.6.0 in /usr/local/lib/python3.11/dist-packages (from scikit-learn) (1.15.3)\n",
            "Requirement already satisfied: threadpoolctl>=3.1.0 in /usr/local/lib/python3.11/dist-packages (from scikit-learn) (3.6.0)\n",
            "Requirement already satisfied: contourpy>=1.0.1 in /usr/local/lib/python3.11/dist-packages (from matplotlib) (1.3.2)\n",
            "Requirement already satisfied: cycler>=0.10 in /usr/local/lib/python3.11/dist-packages (from matplotlib) (0.12.1)\n",
            "Requirement already satisfied: fonttools>=4.22.0 in /usr/local/lib/python3.11/dist-packages (from matplotlib) (4.58.0)\n",
            "Requirement already satisfied: kiwisolver>=1.3.1 in /usr/local/lib/python3.11/dist-packages (from matplotlib) (1.4.8)\n",
            "Requirement already satisfied: pillow>=8 in /usr/local/lib/python3.11/dist-packages (from matplotlib) (11.2.1)\n",
            "Requirement already satisfied: pyparsing>=2.3.1 in /usr/local/lib/python3.11/dist-packages (from matplotlib) (3.2.3)\n",
            "Requirement already satisfied: wheel<1.0,>=0.23.0 in /usr/local/lib/python3.11/dist-packages (from astunparse>=1.6.0->tensorflow) (0.45.1)\n",
            "Requirement already satisfied: charset-normalizer<4,>=2 in /usr/local/lib/python3.11/dist-packages (from requests<3,>=2.21.0->tensorflow) (3.4.2)\n",
            "Requirement already satisfied: idna<4,>=2.5 in /usr/local/lib/python3.11/dist-packages (from requests<3,>=2.21.0->tensorflow) (3.10)\n",
            "Requirement already satisfied: urllib3<3,>=1.21.1 in /usr/local/lib/python3.11/dist-packages (from requests<3,>=2.21.0->tensorflow) (2.4.0)\n",
            "Requirement already satisfied: certifi>=2017.4.17 in /usr/local/lib/python3.11/dist-packages (from requests<3,>=2.21.0->tensorflow) (2025.4.26)\n",
            "Requirement already satisfied: markdown>=2.6.8 in /usr/local/lib/python3.11/dist-packages (from tensorboard<2.19,>=2.18->tensorflow) (3.8)\n",
            "Requirement already satisfied: tensorboard-data-server<0.8.0,>=0.7.0 in /usr/local/lib/python3.11/dist-packages (from tensorboard<2.19,>=2.18->tensorflow) (0.7.2)\n",
            "Requirement already satisfied: werkzeug>=1.0.1 in /usr/local/lib/python3.11/dist-packages (from tensorboard<2.19,>=2.18->tensorflow) (3.1.3)\n",
            "Requirement already satisfied: markdown-it-py>=2.2.0 in /usr/local/lib/python3.11/dist-packages (from rich->keras) (3.0.0)\n",
            "Requirement already satisfied: pygments<3.0.0,>=2.13.0 in /usr/local/lib/python3.11/dist-packages (from rich->keras) (2.19.1)\n",
            "Requirement already satisfied: mdurl~=0.1 in /usr/local/lib/python3.11/dist-packages (from markdown-it-py>=2.2.0->rich->keras) (0.1.2)\n",
            "Requirement already satisfied: MarkupSafe>=2.1.1 in /usr/local/lib/python3.11/dist-packages (from werkzeug>=1.0.1->tensorboard<2.19,>=2.18->tensorflow) (3.0.2)\n"
          ]
        }
      ],
      "execution_count": 9
    },
    {
      "cell_type": "code",
      "source": [
        "import re\n",
        "import nltk\n",
        "from nltk.corpus import stopwords\n",
        "from nltk.stem import SnowballStemmer\n",
        "nltk.download('stopwords')"
      ],
      "metadata": {
        "trusted": true,
        "execution": {
          "iopub.status.busy": "2025-06-01T04:04:58.761115Z",
          "iopub.execute_input": "2025-06-01T04:04:58.761481Z",
          "iopub.status.idle": "2025-06-01T04:04:58.767299Z",
          "shell.execute_reply.started": "2025-06-01T04:04:58.76145Z",
          "shell.execute_reply": "2025-06-01T04:04:58.766168Z"
        },
        "id": "akXzEEPFuD7q",
        "outputId": "eaec4351-8a24-420b-8538-2eb6df1f97fc",
        "colab": {
          "base_uri": "https://localhost:8080/"
        }
      },
      "outputs": [
        {
          "output_type": "stream",
          "name": "stderr",
          "text": [
            "[nltk_data] Downloading package stopwords to /root/nltk_data...\n",
            "[nltk_data]   Unzipping corpora/stopwords.zip.\n"
          ]
        },
        {
          "output_type": "execute_result",
          "data": {
            "text/plain": [
              "True"
            ]
          },
          "metadata": {},
          "execution_count": 10
        }
      ],
      "execution_count": 10
    },
    {
      "cell_type": "markdown",
      "source": [
        "# Limpieza de texto"
      ],
      "metadata": {
        "id": "embqZPKV3d0m"
      }
    },
    {
      "cell_type": "markdown",
      "source": [
        "Esta celda define una función llamada limpiar_texto que realiza las siguientes operaciones en cada reseña de película:\n",
        "\n",
        "*   Elimina la puntuación.\n",
        "*   Convierte el texto a minúsculas.\n",
        "*   Elimina las stopwords en inglés.\n",
        "\n",
        "\n",
        "\n"
      ],
      "metadata": {
        "id": "EbjT4pM43R_U"
      }
    },
    {
      "cell_type": "code",
      "source": [
        "# Limpieza de texto\n",
        "def limpiar_texto(review):\n",
        "    texto = re.sub(r'[^\\w\\s]', '', review)  # Elimina puntuación\n",
        "    texto = texto.lower()  # Minúsculas\n",
        "    palabras = texto.split()\n",
        "    stopwords_es = set(stopwords.words('english'))\n",
        "    palabras = [p for p in palabras if p not in stopwords_es]\n",
        "    return ' '.join(palabras)\n",
        "\n",
        "df['texto_limpio'] = df['review'].apply(limpiar_texto)"
      ],
      "metadata": {
        "trusted": true,
        "execution": {
          "iopub.status.busy": "2025-06-01T04:05:02.254414Z",
          "iopub.execute_input": "2025-06-01T04:05:02.25476Z",
          "iopub.status.idle": "2025-06-01T04:05:13.106175Z",
          "shell.execute_reply.started": "2025-06-01T04:05:02.254734Z",
          "shell.execute_reply": "2025-06-01T04:05:13.105081Z"
        },
        "id": "GLU41NnXuD7s"
      },
      "outputs": [],
      "execution_count": 11
    },
    {
      "cell_type": "markdown",
      "source": [
        "Descarga de Recursos de NLTK para Deep Learning."
      ],
      "metadata": {
        "id": "PwU3gYr13oSE"
      }
    },
    {
      "cell_type": "code",
      "source": [
        "# Deep Learning\n",
        "from tensorflow.keras.preprocessing.text import Tokenizer\n",
        "from tensorflow.keras.preprocessing.sequence import pad_sequences\n",
        "from tensorflow.keras.models import Sequential\n",
        "from tensorflow.keras.layers import Embedding, LSTM, Dense, Dropout, GlobalAveragePooling1D\n",
        "from tensorflow.keras.callbacks import EarlyStopping # Import EarlyStopping\n",
        "\n",
        "nltk.download('stopwords')"
      ],
      "metadata": {
        "trusted": true,
        "execution": {
          "iopub.status.busy": "2025-06-01T04:05:15.858044Z",
          "iopub.execute_input": "2025-06-01T04:05:15.858382Z",
          "iopub.status.idle": "2025-06-01T04:05:15.867055Z",
          "shell.execute_reply.started": "2025-06-01T04:05:15.858355Z",
          "shell.execute_reply": "2025-06-01T04:05:15.866071Z"
        },
        "id": "RIroGrKSuD7t",
        "outputId": "6424ed79-d4a8-4999-845b-afd32041d79e",
        "colab": {
          "base_uri": "https://localhost:8080/"
        }
      },
      "outputs": [
        {
          "output_type": "stream",
          "name": "stderr",
          "text": [
            "[nltk_data] Downloading package stopwords to /root/nltk_data...\n",
            "[nltk_data]   Package stopwords is already up-to-date!\n"
          ]
        },
        {
          "output_type": "execute_result",
          "data": {
            "text/plain": [
              "True"
            ]
          },
          "metadata": {},
          "execution_count": 12
        }
      ],
      "execution_count": 12
    },
    {
      "cell_type": "markdown",
      "source": [
        "# Tokenización"
      ],
      "metadata": {
        "id": "pjGQVQr13vs7"
      }
    },
    {
      "cell_type": "markdown",
      "source": [
        "Esta celda crea un objeto Tokenizer para convertir el texto limpio en secuencias de números enteros. num_words especifica el tamaño del vocabulario y oov_token se utiliza para representar palabras fuera del vocabulario. Luego, ajusta el tokenizador a la columna 'texto_limpio' y convierte el texto en secuencias."
      ],
      "metadata": {
        "id": "VOiuKuLZ3s0_"
      }
    },
    {
      "cell_type": "code",
      "source": [
        "# Tokenización\n",
        "tokenizer = Tokenizer(num_words=5000, oov_token='<OOV>')\n",
        "tokenizer.fit_on_texts(df['texto_limpio'])\n",
        "sequences = tokenizer.texts_to_sequences(df['texto_limpio'])"
      ],
      "metadata": {
        "trusted": true,
        "execution": {
          "iopub.status.busy": "2025-06-01T04:05:23.905108Z",
          "iopub.execute_input": "2025-06-01T04:05:23.905769Z",
          "iopub.status.idle": "2025-06-01T04:05:34.001298Z",
          "shell.execute_reply.started": "2025-06-01T04:05:23.905737Z",
          "shell.execute_reply": "2025-06-01T04:05:33.999715Z"
        },
        "id": "1yUKbe87uD7v"
      },
      "outputs": [],
      "execution_count": 13
    },
    {
      "cell_type": "markdown",
      "source": [
        "# Padding de secuencias"
      ],
      "metadata": {
        "id": "OoOiWX953zrj"
      }
    },
    {
      "cell_type": "markdown",
      "source": [
        "Esta celda rellena las secuencias para que todas tengan la misma longitud (max_len). Esto es necesario para la entrada del modelo de Deep Learning. También extrae las etiquetas de sentimiento ('sentiment') en un arreglo de NumPy."
      ],
      "metadata": {
        "id": "fIunOBFJ33HA"
      }
    },
    {
      "cell_type": "code",
      "source": [
        "# Padding para igualar longitudes\n",
        "max_len = 200  # Ajusta según tu dataset\n",
        "X = pad_sequences(sequences, maxlen=max_len, truncating='post', padding='post')\n",
        "y = df['sentiment'].values  # Etiquetas"
      ],
      "metadata": {
        "trusted": true,
        "execution": {
          "iopub.status.busy": "2025-06-01T04:05:35.920681Z",
          "iopub.execute_input": "2025-06-01T04:05:35.921015Z",
          "iopub.status.idle": "2025-06-01T04:05:36.298097Z",
          "shell.execute_reply.started": "2025-06-01T04:05:35.920989Z",
          "shell.execute_reply": "2025-06-01T04:05:36.297244Z"
        },
        "id": "j_x7yqqcuD7w"
      },
      "outputs": [],
      "execution_count": 14
    },
    {
      "cell_type": "markdown",
      "source": [
        "División de datos en entrenamiento y prueba"
      ],
      "metadata": {
        "id": "-9wJQaQA390E"
      }
    },
    {
      "cell_type": "code",
      "source": [
        "X_train, X_test, y_train, y_test = train_test_split(X, y, test_size=0.2, random_state=42)\n"
      ],
      "metadata": {
        "trusted": true,
        "execution": {
          "iopub.status.busy": "2025-06-01T04:05:38.623284Z",
          "iopub.execute_input": "2025-06-01T04:05:38.623646Z",
          "iopub.status.idle": "2025-06-01T04:05:38.645015Z",
          "shell.execute_reply.started": "2025-06-01T04:05:38.62361Z",
          "shell.execute_reply": "2025-06-01T04:05:38.643789Z"
        },
        "id": "5DX-uVGTuD7x"
      },
      "outputs": [],
      "execution_count": 15
    },
    {
      "cell_type": "markdown",
      "source": [
        "# Definición del modelo de red neuronal"
      ],
      "metadata": {
        "id": "jIzlEqLQ4DK5"
      }
    },
    {
      "cell_type": "markdown",
      "source": [
        "Es un modelo secuencial con las siguientes capas:\n",
        "\n",
        "*   Embedding: Convierte las secuencias de números enteros en vectores densos.\n",
        "*   LSTM: Capas de Memoria a Corto Plazo (LSTM) para procesar secuencias. Se utilizan dos capas apiladas con dropout y la última capa no retorna secuencias.\n",
        "*   Dense: Capas densas para procesar las características extraídas por las capas LSTM. *   Se incluyen capas de Batch Normalization y Dropout para regularización.\n",
        "*   Dense (Salida): Capa de salida con activación sigmoide para la clasificación binaria.\n",
        "\n",
        "El modelo se compila con el optimizador 'adam' y la función de pérdida 'binary_crossentropy' para clasificación binaria."
      ],
      "metadata": {
        "id": "m4QHrokD4JPi"
      }
    },
    {
      "cell_type": "code",
      "source": [
        "from tensorflow.keras.models import Sequential\n",
        "from tensorflow.keras.layers import Embedding, LSTM, Dense, Dropout, BatchNormalization\n",
        "from tensorflow.keras.models import Sequential\n",
        "from tensorflow.keras.layers import Embedding, LSTM, Dense, Dropout, BatchNormalization\n",
        "from tensorflow.keras.optimizers import Adam\n",
        "model = Sequential([\n",
        "    # Capa de Embedding (ajustar input_dim y output_dim según tu vocabulario)\n",
        "    Embedding(input_dim=5000, output_dim=256, input_length=200),\n",
        "\n",
        "    # Capas LSTM apiladas (con return_sequences=True para apilar)\n",
        "    LSTM(128, return_sequences=True, dropout=0.2),  # Dropout para regularización\n",
        "    LSTM(64, return_sequences=False),  # Última LSTM no retorna secuencias\n",
        "\n",
        "    # Capas Dense adicionales\n",
        "    Dense(32, activation='relu'),\n",
        "    BatchNormalization(),  # Normaliza activaciones\n",
        "    Dropout(0.5),  # Reduce overfitting\n",
        "\n",
        "    Dense(32, activation='relu'),\n",
        "\n",
        "    # Capa de salida (binaria)\n",
        "    Dense(1, activation='sigmoid')\n",
        "])\n",
        "\n",
        "\n",
        "optimizer = Adam(learning_rate=0.0001)  # LR más bajo\n",
        "model.compile(optimizer='adam', loss='binary_crossentropy', metrics=['accuracy'])"
      ],
      "metadata": {
        "trusted": true,
        "execution": {
          "iopub.status.busy": "2025-06-01T04:18:53.513031Z",
          "iopub.execute_input": "2025-06-01T04:18:53.513394Z",
          "iopub.status.idle": "2025-06-01T04:18:53.545397Z",
          "shell.execute_reply.started": "2025-06-01T04:18:53.513359Z",
          "shell.execute_reply": "2025-06-01T04:18:53.544228Z"
        },
        "id": "DisJF9w8uD7x",
        "outputId": "7a8fc3cd-e463-4071-bcd7-3f1e855c059e",
        "colab": {
          "base_uri": "https://localhost:8080/"
        }
      },
      "outputs": [
        {
          "output_type": "stream",
          "name": "stderr",
          "text": [
            "/usr/local/lib/python3.11/dist-packages/keras/src/layers/core/embedding.py:90: UserWarning: Argument `input_length` is deprecated. Just remove it.\n",
            "  warnings.warn(\n"
          ]
        }
      ],
      "execution_count": 16
    },
    {
      "cell_type": "markdown",
      "source": [
        "Definición del callback Early Stopping"
      ],
      "metadata": {
        "id": "z5WeTwIx4aZZ"
      }
    },
    {
      "cell_type": "markdown",
      "source": [
        "El callback EarlyStopping detendrá el entrenamiento si la pérdida de validación deja de mejorar después de un cierto número de épocas (patience). Esto ayuda a prevenir el sobreajuste."
      ],
      "metadata": {
        "id": "RlKK9iHI4dI6"
      }
    },
    {
      "cell_type": "code",
      "source": [
        "# Define the EarlyStopping callback\n",
        "early_stop = EarlyStopping(monitor='val_loss', patience=3, restore_best_weights=True)"
      ],
      "metadata": {
        "trusted": true,
        "execution": {
          "iopub.status.busy": "2025-06-01T04:05:43.141619Z",
          "iopub.execute_input": "2025-06-01T04:05:43.141961Z",
          "iopub.status.idle": "2025-06-01T04:05:43.171931Z",
          "shell.execute_reply.started": "2025-06-01T04:05:43.141937Z",
          "shell.execute_reply": "2025-06-01T04:05:43.170908Z"
        },
        "id": "uD2l8UJtuD7y"
      },
      "outputs": [],
      "execution_count": 17
    },
    {
      "cell_type": "markdown",
      "source": [
        "# Entrenamiento del modelo"
      ],
      "metadata": {
        "id": "je3F9ox74kSI"
      }
    },
    {
      "cell_type": "markdown",
      "source": [
        "Esta celda entrena el modelo utilizando los datos de entrenamiento (X_train, y_train) y valida el modelo en los datos de prueba (X_test, y_test). Se entrena durante un máximo de 10 épocas con un tamaño de lote de 32. El callback early_stop se utiliza para detener el entrenamiento tempranamente si es necesario."
      ],
      "metadata": {
        "id": "60DeUsBY4p3Q"
      }
    },
    {
      "cell_type": "code",
      "source": [
        "# Entrenamiento\n",
        "history = model.fit(\n",
        "    X_train, y_train,\n",
        "    epochs=10,\n",
        "    validation_data=(X_test, y_test),\n",
        "    batch_size=32,\n",
        "    callbacks=[early_stop]\n",
        ")"
      ],
      "metadata": {
        "trusted": true,
        "execution": {
          "iopub.status.busy": "2025-06-01T04:19:01.221377Z",
          "iopub.execute_input": "2025-06-01T04:19:01.221743Z"
        },
        "id": "EnghIPGquD71",
        "outputId": "2b752789-05c0-4a0c-cd81-b21b05dcd94d",
        "colab": {
          "base_uri": "https://localhost:8080/"
        }
      },
      "outputs": [
        {
          "output_type": "stream",
          "name": "stdout",
          "text": [
            "Epoch 1/10\n",
            "\u001b[1m1250/1250\u001b[0m \u001b[32m━━━━━━━━━━━━━━━━━━━━\u001b[0m\u001b[37m\u001b[0m \u001b[1m34s\u001b[0m 20ms/step - accuracy: 0.5025 - loss: 0.6989 - val_accuracy: 0.5047 - val_loss: 0.6988\n",
            "Epoch 2/10\n",
            "\u001b[1m1250/1250\u001b[0m \u001b[32m━━━━━━━━━━━━━━━━━━━━\u001b[0m\u001b[37m\u001b[0m \u001b[1m25s\u001b[0m 20ms/step - accuracy: 0.5390 - loss: 0.6707 - val_accuracy: 0.8737 - val_loss: 0.3024\n",
            "Epoch 3/10\n",
            "\u001b[1m1250/1250\u001b[0m \u001b[32m━━━━━━━━━━━━━━━━━━━━\u001b[0m\u001b[37m\u001b[0m \u001b[1m42s\u001b[0m 20ms/step - accuracy: 0.8819 - loss: 0.3012 - val_accuracy: 0.8592 - val_loss: 0.3139\n",
            "Epoch 4/10\n",
            "\u001b[1m1250/1250\u001b[0m \u001b[32m━━━━━━━━━━━━━━━━━━━━\u001b[0m\u001b[37m\u001b[0m \u001b[1m41s\u001b[0m 21ms/step - accuracy: 0.9174 - loss: 0.2229 - val_accuracy: 0.8866 - val_loss: 0.2672\n",
            "Epoch 5/10\n",
            "\u001b[1m1250/1250\u001b[0m \u001b[32m━━━━━━━━━━━━━━━━━━━━\u001b[0m\u001b[37m\u001b[0m \u001b[1m40s\u001b[0m 20ms/step - accuracy: 0.9362 - loss: 0.1834 - val_accuracy: 0.8762 - val_loss: 0.3074\n",
            "Epoch 6/10\n",
            "\u001b[1m1250/1250\u001b[0m \u001b[32m━━━━━━━━━━━━━━━━━━━━\u001b[0m\u001b[37m\u001b[0m \u001b[1m41s\u001b[0m 20ms/step - accuracy: 0.9533 - loss: 0.1421 - val_accuracy: 0.8761 - val_loss: 0.3194\n",
            "Epoch 7/10\n",
            "\u001b[1m1250/1250\u001b[0m \u001b[32m━━━━━━━━━━━━━━━━━━━━\u001b[0m\u001b[37m\u001b[0m \u001b[1m41s\u001b[0m 20ms/step - accuracy: 0.9629 - loss: 0.1190 - val_accuracy: 0.8751 - val_loss: 0.3447\n"
          ]
        }
      ],
      "execution_count": 18
    },
    {
      "cell_type": "markdown",
      "source": [
        "Predicciones en datos de prueba\n"
      ],
      "metadata": {
        "id": "1ZFT5-fR4ssX"
      }
    },
    {
      "cell_type": "markdown",
      "source": [
        "Utiliza el modelo entrenado para hacer predicciones en los datos de prueba (X_test). Las predicciones se convierten a 0 o 1 según si la probabilidad predicha es mayor que 0.5."
      ],
      "metadata": {
        "id": "gcjKnkk94wco"
      }
    },
    {
      "cell_type": "code",
      "source": [
        "# Predicciones\n",
        "y_pred = (model.predict(X_test) > 0.5).astype(int)"
      ],
      "metadata": {
        "trusted": true,
        "execution": {
          "iopub.status.busy": "2025-06-01T04:15:46.805692Z",
          "iopub.execute_input": "2025-06-01T04:15:46.806183Z",
          "iopub.status.idle": "2025-06-01T04:15:52.89834Z",
          "shell.execute_reply.started": "2025-06-01T04:15:46.806151Z",
          "shell.execute_reply": "2025-06-01T04:15:52.896924Z"
        },
        "id": "PxiNr9DruD73",
        "outputId": "b52d4c39-598c-4a38-a063-e670378676c7",
        "colab": {
          "base_uri": "https://localhost:8080/"
        }
      },
      "outputs": [
        {
          "output_type": "stream",
          "name": "stdout",
          "text": [
            "\u001b[1m313/313\u001b[0m \u001b[32m━━━━━━━━━━━━━━━━━━━━\u001b[0m\u001b[37m\u001b[0m \u001b[1m3s\u001b[0m 8ms/step\n"
          ]
        }
      ],
      "execution_count": 19
    },
    {
      "cell_type": "markdown",
      "source": [
        "Evaluación del modelo\n"
      ],
      "metadata": {
        "id": "uoRM3wn8446w"
      }
    },
    {
      "cell_type": "markdown",
      "source": [
        "Esta celda imprime un reporte de clasificación que incluye métricas como precisión, recall y f1-score. También imprime la precisión general. Finalmente, grafica las curvas de precisión de entrenamiento y validación a lo largo de las épocas para visualizar el rendimiento."
      ],
      "metadata": {
        "id": "VfWDnc-I48SQ"
      }
    },
    {
      "cell_type": "code",
      "source": [
        "# Reporte de clasificación\n",
        "print(classification_report(y_test, y_pred))\n",
        "print(\"Accuracy:\", accuracy_score(y_test, y_pred))\n",
        "\n",
        "# Gráfico de precisión y pérdida\n",
        "plt.plot(history.history['accuracy'], label='Train Accuracy')\n",
        "plt.plot(history.history['val_accuracy'], label='Validation Accuracy')\n",
        "plt.legend()\n",
        "plt.show()"
      ],
      "metadata": {
        "trusted": true,
        "execution": {
          "iopub.status.busy": "2025-06-01T04:15:55.96366Z",
          "iopub.execute_input": "2025-06-01T04:15:55.963998Z",
          "iopub.status.idle": "2025-06-01T04:15:56.171872Z",
          "shell.execute_reply.started": "2025-06-01T04:15:55.963974Z",
          "shell.execute_reply": "2025-06-01T04:15:56.170872Z"
        },
        "id": "tdteXXYHuD74",
        "outputId": "9418cfd0-283b-46e7-ae8f-77ac9e512cc0",
        "colab": {
          "base_uri": "https://localhost:8080/",
          "height": 604
        }
      },
      "outputs": [
        {
          "output_type": "stream",
          "name": "stdout",
          "text": [
            "              precision    recall  f1-score   support\n",
            "\n",
            "           0       0.89      0.88      0.89      4961\n",
            "           1       0.88      0.90      0.89      5039\n",
            "\n",
            "    accuracy                           0.89     10000\n",
            "   macro avg       0.89      0.89      0.89     10000\n",
            "weighted avg       0.89      0.89      0.89     10000\n",
            "\n",
            "Accuracy: 0.888\n"
          ]
        },
        {
          "output_type": "display_data",
          "data": {
            "text/plain": [
              "<Figure size 640x480 with 1 Axes>"
            ],
            "image/png": "[encoded data removed]"
          },
          "metadata": {}
        }
      ],
      "execution_count": 20
    },
    {
      "cell_type": "markdown",
      "source": [
        "# Conclusión\n",
        "\n"
      ],
      "metadata": {
        "id": "U4gwi0cR5NZP"
      }
    },
    {
      "cell_type": "markdown",
      "source": [
        "En este notebook, hemos desarrollado y evaluado un modelo de red neuronal recurrente (LSTM) para la clasificación de sentimientos de reseñas de películas.\n",
        "\n",
        "Los resultados de la evaluación del modelo en el conjunto de prueba, como se muestra en el reporte de clasificación y la métrica de precisión, indican que el modelo ha logrado un buen desempeño en la tarea de clasificación de sentimientos. Las curvas de precisión de entrenamiento y validación muestran la evolución del rendimiento del modelo durante el entrenamiento.\n",
        "\n",
        "Este modelo puede ser utilizado para predecir el sentimiento (positivo o negativo) de nuevas reseñas de películas. Para mejorar aún más el rendimiento, se podrían explorar otras arquitecturas de red neuronal, ajustar los hiperparámetros, o utilizar técnicas de preprocesamiento de texto más avanzadas."
      ],
      "metadata": {
        "id": "7Y-FucML5SvG"
      }
    }
  ]
}